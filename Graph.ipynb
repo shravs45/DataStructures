{
 "cells": [
  {
   "cell_type": "code",
   "execution_count": 38,
   "id": "6a5342c8",
   "metadata": {},
   "outputs": [
    {
     "name": "stdout",
     "output_type": "stream",
     "text": [
      "[(100, 1, 2), (101, 1, 3), (102, 1, 4), (103, 3, 4)]\n",
      "[None, [(2, 100), (3, 101), (4, 102)], None, [(4, 103)], None]\n",
      "[[0, 0, 0, 0, 0], [0, 0, 100, 101, 102], [0, 0, 0, 0, 0], [0, 0, 0, 0, 103], [0, 0, 0, 0, 0]]\n"
     ]
    }
   ],
   "source": [
    "class Node(object):\n",
    "    def __init__(self, value):\n",
    "        self.value = value\n",
    "        self.edges = []\n",
    "\n",
    "class Edge(object):\n",
    "    def __init__(self, value, node_from, node_to):\n",
    "        self.value = value\n",
    "        self.node_from = node_from\n",
    "        self.node_to = node_to\n",
    "\n",
    "class Graph(object):\n",
    "    def __init__(self, nodes=[], edges=[]):\n",
    "        self.nodes = nodes\n",
    "        self.edges = edges\n",
    "\n",
    "    def insert_node(self, new_node_val):\n",
    "        new_node = Node(new_node_val)\n",
    "        self.nodes.append(new_node)\n",
    "        \n",
    "    def insert_edge(self, new_edge_val, node_from_val, node_to_val):\n",
    "        from_found = None\n",
    "        to_found = None\n",
    "        for node in self.nodes:\n",
    "            if node_from_val == node.value:\n",
    "                from_found = node\n",
    "            if node_to_val == node.value:\n",
    "                to_found = node\n",
    "        if from_found == None:\n",
    "            from_found = Node(node_from_val)\n",
    "            self.nodes.append(from_found)\n",
    "        if to_found == None:\n",
    "            to_found = Node(node_to_val)\n",
    "            self.nodes.append(to_found)\n",
    "        new_edge = Edge(new_edge_val, from_found, to_found)\n",
    "        from_found.edges.append(new_edge)\n",
    "        to_found.edges.append(new_edge)\n",
    "        self.edges.append(new_edge)\n",
    "\n",
    "    def get_edge_list(self):\n",
    "        \"\"\"Don't return a list of edge objects!\n",
    "        Return a list of triples that looks like this:\n",
    "        (Edge Value, From Node Value, To Node Value)\"\"\"\n",
    "        l=list()\n",
    "        for i in self.edges:\n",
    "            l.append((i.value,i.node_from.value,i.node_to.value))\n",
    "        return l\n",
    "\n",
    "    def get_adjacency_list(self):\n",
    "        \"\"\"Don't return any Node or Edge objects!\n",
    "        You'll return a list of lists.\n",
    "        The indecies of the outer list represent\n",
    "        \"from\" nodes.\n",
    "        Each section in the list will store a list\n",
    "        of tuples that looks like this:\n",
    "        (To Node, Edge Value)\"\"\"\n",
    "        node_values=[]\n",
    "        for i in self.nodes:\n",
    "            node_values.append(i.value)\n",
    "        max_val=max(node_values)\n",
    "        resultList=[None]*(max_val+1)\n",
    "        for edge in self.edges:\n",
    "            l=[]\n",
    "            if resultList[edge.node_from.value] is None:\n",
    "                resultList[edge.node_from.value]=[(edge.node_to.value,edge.value)]\n",
    "            else:\n",
    "                resultList[edge.node_from.value].append((edge.node_to.value,edge.value))\n",
    "        return resultList\n",
    "    \n",
    "    def get_adjacency_matrix(self):\n",
    "        \"\"\"Return a matrix, or 2D list.\n",
    "        Row numbers represent from nodes,\n",
    "        column numbers represent to nodes.\n",
    "        Store the edge values in each spot,\n",
    "        and a 0 if no edge exists.\"\"\"\n",
    "        node_values=[]\n",
    "        for i in self.nodes:\n",
    "            node_values.append(i.value)\n",
    "        max_val=max(node_values)\n",
    "        resultList=[None]*(max_val+1)\n",
    "        for i in range(len(resultList)):\n",
    "            l=[]\n",
    "            for j in range(len(resultList)):\n",
    "                value=0\n",
    "                for edge in self.edges:\n",
    "                    if (edge.node_from.value==i) and (edge.node_to.value==j):\n",
    "                        value=edge.value\n",
    "                        #print(i,j,value)\n",
    "                l.append(value)\n",
    "            resultList[i]=l\n",
    "        return resultList\n",
    "\n",
    "graph = Graph()\n",
    "graph.insert_edge(100, 1, 2)\n",
    "graph.insert_edge(101, 1, 3)\n",
    "graph.insert_edge(102, 1, 4)\n",
    "graph.insert_edge(103, 3, 4)\n",
    "# Should be [(100, 1, 2), (101, 1, 3), (102, 1, 4), (103, 3, 4)]\n",
    "print(graph.get_edge_list())\n",
    "# Should be [None, [(2, 100), (3, 101), (4, 102)], None, [(4, 103)], None]\n",
    "print(graph.get_adjacency_list())\n",
    "# Should be [[0, 0, 0, 0, 0], [0, 0, 100, 101, 102], [0, 0, 0, 0, 0], [0, 0, 0, 0, 103], [0, 0, 0, 0, 0]]\n",
    "print(graph.get_adjacency_matrix())"
   ]
  },
  {
   "cell_type": "code",
   "execution_count": 20,
   "id": "59a7eb91",
   "metadata": {},
   "outputs": [
    {
     "name": "stdout",
     "output_type": "stream",
     "text": [
      "[None, None, None, None, None, None]\n"
     ]
    }
   ],
   "source": [
    "l=[None] * (6)\n",
    "print(l)"
   ]
  },
  {
   "cell_type": "code",
   "execution_count": null,
   "id": "2e7a3ae5",
   "metadata": {},
   "outputs": [],
   "source": [
    "def get_edge_list(self):\n",
    "    edge_list = []\n",
    "    for edge_object in self.edges:\n",
    "        edge = (edge_object.value, edge_object.node_from.value, edge_object.node_to.value)\n",
    "        edge_list.append(edge)\n",
    "    return edge_list\n",
    "\n",
    "def get_adjacency_list(self):\n",
    "    max_index = self.find_max_index()\n",
    "    adjacency_list = [None] * (max_index + 1)\n",
    "    for edge_object in self.edges:\n",
    "        if adjacency_list[edge_object.node_from.value]:\n",
    "            adjacency_list[edge_object.node_from.value].append((edge_object.node_to.value, edge_object.value))\n",
    "        else:\n",
    "            adjacency_list[edge_object.node_from.value] = [(edge_object.node_to.value, edge_object.value)]\n",
    "    return adjacency_list\n",
    "\n",
    "def get_adjacency_matrix(self):\n",
    "    max_index = self.find_max_index()\n",
    "    adjacency_matrix = [[0 for i in range(max_index + 1)] for j in range(max_index + 1)]\n",
    "    for edge_object in self.edges:\n",
    "        adjacency_matrix[edge_object.node_from.value][edge_object.node_to.value] = edge_object.value\n",
    "    return adjacency_matrix\n",
    "\n",
    "def find_max_index(self):\n",
    "    max_index = -1\n",
    "    if len(self.nodes):\n",
    "        for node in self.nodes:\n",
    "            if node.value > max_index:\n",
    "                max_index = node.value\n",
    "    return max_index"
   ]
  },
  {
   "cell_type": "code",
   "execution_count": 39,
   "id": "f4469ee0",
   "metadata": {},
   "outputs": [
    {
     "name": "stdout",
     "output_type": "stream",
     "text": [
      "[[0, 0, 0, 0, 0], [0, 0, 0, 0, 0], [0, 0, 0, 0, 0], [0, 0, 0, 0, 0], [0, 0, 0, 0, 0]]\n"
     ]
    }
   ],
   "source": [
    "adjacency_matrix = [[0 for i in range(4 + 1)] for j in range(4 + 1)]\n",
    "print(adjacency_matrix)"
   ]
  }
 ],
 "metadata": {
  "kernelspec": {
   "display_name": "Python 3",
   "language": "python",
   "name": "python3"
  },
  "language_info": {
   "codemirror_mode": {
    "name": "ipython",
    "version": 3
   },
   "file_extension": ".py",
   "mimetype": "text/x-python",
   "name": "python",
   "nbconvert_exporter": "python",
   "pygments_lexer": "ipython3",
   "version": "3.8.8"
  }
 },
 "nbformat": 4,
 "nbformat_minor": 5
}
