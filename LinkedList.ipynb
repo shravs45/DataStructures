{
 "cells": [
  {
   "cell_type": "code",
   "execution_count": 17,
   "id": "4487e546",
   "metadata": {},
   "outputs": [
    {
     "name": "stdout",
     "output_type": "stream",
     "text": [
      "3\n",
      "4\n",
      "5\n",
      "6\n",
      "7\n"
     ]
    }
   ],
   "source": [
    "#Linked List Data Structures\n",
    "#To store 3->4->5->6->9\n",
    "\n",
    "\n",
    "class IterRegistry(type):\n",
    "    def __iter__(cls):\n",
    "        return iter(cls._registry)\n",
    "\n",
    "class Node:\n",
    "    __metaclass__ = IterRegistry\n",
    "    _registry = []\n",
    "    def __init__(self,data,n):\n",
    "        self._registry.append(self)\n",
    "        self.data=data\n",
    "        self.next=n\n",
    "        \n",
    "\n",
    "items=[3,4,5,6,7]\n",
    "head=Node(3,None)\n",
    "currentnode=head\n",
    "\n",
    "def createnode(n,data):\n",
    "    n.next=Node(data,None)\n",
    "    return n;\n",
    "\n",
    "for i in range(len(items)):\n",
    "    if(i==0):\n",
    "        continue\n",
    "    else:\n",
    "        currentnode= createnode(currentnode,items[i])\n",
    "        \n",
    "for item in node._registry:\n",
    "    print(item.data)\n",
    "\n",
    "\n",
    "\n",
    "\n",
    "\n",
    "\n",
    "\n",
    "\n",
    "\n",
    "\n",
    "        \n",
    "    "
   ]
  },
  {
   "cell_type": "code",
   "execution_count": null,
   "id": "328aecb2",
   "metadata": {},
   "outputs": [],
   "source": []
  },
  {
   "cell_type": "code",
   "execution_count": null,
   "id": "acae1b27",
   "metadata": {},
   "outputs": [],
   "source": []
  },
  {
   "cell_type": "code",
   "execution_count": null,
   "id": "d75cd4f0",
   "metadata": {},
   "outputs": [],
   "source": []
  }
 ],
 "metadata": {
  "kernelspec": {
   "display_name": "Python 3",
   "language": "python",
   "name": "python3"
  },
  "language_info": {
   "codemirror_mode": {
    "name": "ipython",
    "version": 3
   },
   "file_extension": ".py",
   "mimetype": "text/x-python",
   "name": "python",
   "nbconvert_exporter": "python",
   "pygments_lexer": "ipython3",
   "version": "3.8.8"
  }
 },
 "nbformat": 4,
 "nbformat_minor": 5
}
