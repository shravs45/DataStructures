{
 "cells": [
  {
   "cell_type": "markdown",
   "id": "9c112363",
   "metadata": {},
   "source": [
    "# Implementing Trees\n",
    "\n",
    "#To store data in heirarchical way. \n",
    "For example, \n",
    "\n",
    "\n",
    "\n",
    "\n",
    "\n",
    "\n"
   ]
  },
  {
   "cell_type": "code",
   "execution_count": 38,
   "id": "ebd1e886",
   "metadata": {},
   "outputs": [
    {
     "name": "stdout",
     "output_type": "stream",
     "text": [
      "1\n",
      "2\n",
      "4\n",
      "6\n",
      "6\n",
      "5\n",
      "3\n",
      "6\n",
      "6\n"
     ]
    }
   ],
   "source": [
    "inputList=input()\n",
    "n=len(inputList)\n",
    "root=None;\n",
    "\n",
    "# Structure of a Node\n",
    "class Node:\n",
    "    def __init__(self,data):\n",
    "        self.data=data\n",
    "        self.left=None\n",
    "        self.right=None\n",
    "\n",
    "# Create Tree\n",
    "def createBinaryTree(root,i):\n",
    "    #print('total',n)\n",
    "    if(i<n):\n",
    "        root=Node(inputList[i])\n",
    "        root.left=createBinaryTree(root.left,2*i+1)\n",
    "        root.right=createBinaryTree(root.right,2*i+2)\n",
    "\n",
    "    return root\n",
    "\n",
    "def printTree(root):\n",
    "    if(root!=None):\n",
    "        print(root.data)\n",
    "        printTree(root.left)\n",
    "        printTree(root.right)\n",
    "\n",
    "completeTree=createBinaryTree(root,0)\n",
    "printTree(completeTree)\n",
    "    \n",
    "\n",
    "    "
   ]
  },
  {
   "cell_type": "code",
   "execution_count": null,
   "id": "9c764cf8",
   "metadata": {},
   "outputs": [],
   "source": []
  }
 ],
 "metadata": {
  "kernelspec": {
   "display_name": "Python 3",
   "language": "python",
   "name": "python3"
  },
  "language_info": {
   "codemirror_mode": {
    "name": "ipython",
    "version": 3
   },
   "file_extension": ".py",
   "mimetype": "text/x-python",
   "name": "python",
   "nbconvert_exporter": "python",
   "pygments_lexer": "ipython3",
   "version": "3.8.8"
  }
 },
 "nbformat": 4,
 "nbformat_minor": 5
}
