{
 "cells": [
  {
   "cell_type": "code",
   "execution_count": 99,
   "id": "80dfc4e1",
   "metadata": {},
   "outputs": [
    {
     "name": "stdout",
     "output_type": "stream",
     "text": [
      "1\n",
      "Atlanta\n",
      "Mountain View\n",
      "2\n",
      "Bangalore India\n",
      "Shanghai China\n"
     ]
    }
   ],
   "source": [
    "locations = {'North America': [{'USA': ['Mountain View','Atlanta']}]}\n",
    "locations['Asia']=[{'India':['Bangalore']},{'China':['Shanghai']}]\n",
    "locations['Africa']=[{'Egypt':['Cairo']}]\n",
    "\n",
    "#print(locations)\n",
    "\n",
    "#locations={'name':'shravs'}\n",
    "\n",
    "\n",
    "\"\"\"Print the following (using \"print\").\n",
    "1. A list of all cities in the USA in\n",
    "alphabetic order.\n",
    "2. All cities in Asia, in alphabetic\n",
    "order, next to the name of the country.\n",
    "In your output, label each answer with a number\n",
    "so it looks like this:\"\"\"\n",
    "AsianCountries={}\n",
    "for continent in locations:\n",
    "    if(continent=='Asia'):\n",
    "        AsianCountries=locations[continent]\n",
    "    for countries in locations[continent]:\n",
    "        for country in countries:\n",
    "            if country=='USA':\n",
    "                l=countries.get('USA')\n",
    "                print(\"1\")\n",
    "                [print(i) for i in sorted(l)]\n",
    "                print(\"2\")\n",
    "for countries in AsianCountries:\n",
    "    for country in countries:\n",
    "        [print(i,country) for i in sorted(countries[country])]"
   ]
  },
  {
   "cell_type": "markdown",
   "id": "664ab314",
   "metadata": {},
   "source": [
    "# Udacity Solution below"
   ]
  },
  {
   "cell_type": "code",
   "execution_count": 113,
   "id": "0cbcb517",
   "metadata": {},
   "outputs": [
    {
     "name": "stdout",
     "output_type": "stream",
     "text": [
      "1\n",
      "Atlanta\n",
      "Mountain View\n",
      "2\n",
      "Bangalore - India\n",
      "Shanghai - China\n"
     ]
    }
   ],
   "source": [
    "locations = {'North America': {'USA': ['Mountain View']}}\n",
    "locations['North America']['USA'].append('Atlanta')\n",
    "locations['Asia'] = {'India': ['Bangalore']}\n",
    "locations['Asia']['China'] = ['Shanghai']\n",
    "locations['Africa'] = {'Egypt': ['Cairo']}\n",
    "\n",
    "print(1)\n",
    "usa_sorted = sorted(locations['North America']['USA'])\n",
    "for city in usa_sorted:\n",
    "    print(city)\n",
    "\n",
    "print(2)\n",
    "asia_cities = []\n",
    "for countries in locations['Asia']:\n",
    "    city_country = locations['Asia'][countries][0] + \" - \" + countries \n",
    "    asia_cities.append(city_country)\n",
    "asia_sorted = sorted(asia_cities)#\n",
    "for city in asia_sorted:\n",
    "    print(city)"
   ]
  },
  {
   "cell_type": "code",
   "execution_count": 114,
   "id": "72b4c58f",
   "metadata": {},
   "outputs": [
    {
     "name": "stdout",
     "output_type": "stream",
     "text": [
      "8568\n",
      "-1\n",
      "8568\n",
      "8568\n"
     ]
    }
   ],
   "source": [
    "\"\"\"Write a HashTable class that stores strings\n",
    "in a hash table, where keys are calculated\n",
    "using the first two letters of the string.\"\"\"\n",
    "\n",
    "class HashTable(object):\n",
    "    def __init__(self):\n",
    "        self.table = [None]*10000\n",
    "\n",
    "    def store(self, string):\n",
    "        \"\"\"Input a string that's stored in \n",
    "        the table.\"\"\"\n",
    "        hv=self.calculate_hash_value(string)\n",
    "        if hv!=-1:\n",
    "            self.table[hv]=string\n",
    "        pass\n",
    "\n",
    "    def lookup(self, string):\n",
    "        \"\"\"Return the hash value if the\n",
    "        string is already in the table.\n",
    "        Return -1 otherwise.\"\"\"\n",
    "        hv=self.calculate_hash_value(string)\n",
    "        if hv==-1:\n",
    "            return -1\n",
    "        if self.table[hv] is not None:\n",
    "            return hv\n",
    "        else:\n",
    "            return -1\n",
    "            \n",
    "    def calculate_hash_value(self, string):\n",
    "        \"\"\"Helper function to calulate a\n",
    "        hash value from a string.\"\"\"\n",
    "        hv=(ord(string[0])*100)+ord(string[1])\n",
    "        return hv\n",
    "    \n",
    "# Setup\n",
    "hash_table = HashTable()\n",
    "\n",
    "# Test calculate_hash_value\n",
    "# Should be 8568\n",
    "print(hash_table.calculate_hash_value('UDACITY'))\n",
    "\n",
    "# Test lookup edge case\n",
    "# Should be -1\n",
    "print(hash_table.lookup('UDACITY'))\n",
    "\n",
    "# Test store\n",
    "hash_table.store('UDACITY')\n",
    "# Should be 8568\n",
    "print(hash_table.lookup('UDACITY'))\n",
    "\n",
    "# Test store edge case\n",
    "hash_table.store('UDACIOUS')\n",
    "# Should be 8568\n",
    "print(hash_table.lookup('UDACIOUS'))\n"
   ]
  }
 ],
 "metadata": {
  "kernelspec": {
   "display_name": "Python 3",
   "language": "python",
   "name": "python3"
  },
  "language_info": {
   "codemirror_mode": {
    "name": "ipython",
    "version": 3
   },
   "file_extension": ".py",
   "mimetype": "text/x-python",
   "name": "python",
   "nbconvert_exporter": "python",
   "pygments_lexer": "ipython3",
   "version": "3.8.8"
  }
 },
 "nbformat": 4,
 "nbformat_minor": 5
}
